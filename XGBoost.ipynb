{
 "cells": [
  {
   "cell_type": "code",
   "execution_count": 1,
   "metadata": {
    "id": "zLGGlVdaV_XM"
   },
   "outputs": [],
   "source": [
    "import pandas as pd\n",
    "import matplotlib.pyplot as plt\n",
    "import numpy as np"
   ]
  },
  {
   "cell_type": "code",
   "execution_count": 2,
   "metadata": {
    "id": "JvnAAqGvVdej"
   },
   "outputs": [],
   "source": [
    "df = pd.read_csv('Kerela_FINAL_new.csv')\n",
    "df.set_index('Date', inplace=True)"
   ]
  },
  {
   "cell_type": "code",
   "execution_count": 3,
   "metadata": {},
   "outputs": [
    {
     "data": {
      "text/html": [
       "<div>\n",
       "<style scoped>\n",
       "    .dataframe tbody tr th:only-of-type {\n",
       "        vertical-align: middle;\n",
       "    }\n",
       "\n",
       "    .dataframe tbody tr th {\n",
       "        vertical-align: top;\n",
       "    }\n",
       "\n",
       "    .dataframe thead th {\n",
       "        text-align: right;\n",
       "    }\n",
       "</style>\n",
       "<table border=\"1\" class=\"dataframe\">\n",
       "  <thead>\n",
       "    <tr style=\"text-align: right;\">\n",
       "      <th></th>\n",
       "      <th>Tourists</th>\n",
       "      <th>Year</th>\n",
       "      <th>Month</th>\n",
       "      <th>No_of_flight_bookings</th>\n",
       "      <th>No_of_hotel_booked</th>\n",
       "      <th>Tourism</th>\n",
       "      <th>Tourism_Packages</th>\n",
       "      <th>Tourist_Places</th>\n",
       "      <th>Travel</th>\n",
       "      <th>Food_Drink</th>\n",
       "      <th>Flights_Kerala</th>\n",
       "      <th>Trains_Kerala</th>\n",
       "      <th>Rain</th>\n",
       "      <th>T_Max</th>\n",
       "      <th>T_Min</th>\n",
       "    </tr>\n",
       "    <tr>\n",
       "      <th>Date</th>\n",
       "      <th></th>\n",
       "      <th></th>\n",
       "      <th></th>\n",
       "      <th></th>\n",
       "      <th></th>\n",
       "      <th></th>\n",
       "      <th></th>\n",
       "      <th></th>\n",
       "      <th></th>\n",
       "      <th></th>\n",
       "      <th></th>\n",
       "      <th></th>\n",
       "      <th></th>\n",
       "      <th></th>\n",
       "      <th></th>\n",
       "    </tr>\n",
       "  </thead>\n",
       "  <tbody>\n",
       "    <tr>\n",
       "      <th>2010-01-01</th>\n",
       "      <td>818356.0</td>\n",
       "      <td>2010</td>\n",
       "      <td>1</td>\n",
       "      <td>2991</td>\n",
       "      <td>2123306.250</td>\n",
       "      <td>86</td>\n",
       "      <td>82</td>\n",
       "      <td>24</td>\n",
       "      <td>51</td>\n",
       "      <td>78</td>\n",
       "      <td>0</td>\n",
       "      <td>35</td>\n",
       "      <td>6.8313</td>\n",
       "      <td>29.35</td>\n",
       "      <td>15.42</td>\n",
       "    </tr>\n",
       "    <tr>\n",
       "      <th>2010-02-01</th>\n",
       "      <td>721201.0</td>\n",
       "      <td>2010</td>\n",
       "      <td>2</td>\n",
       "      <td>2812</td>\n",
       "      <td>1861236.000</td>\n",
       "      <td>89</td>\n",
       "      <td>32</td>\n",
       "      <td>0</td>\n",
       "      <td>44</td>\n",
       "      <td>72</td>\n",
       "      <td>0</td>\n",
       "      <td>35</td>\n",
       "      <td>20.1979</td>\n",
       "      <td>31.79</td>\n",
       "      <td>16.11</td>\n",
       "    </tr>\n",
       "    <tr>\n",
       "      <th>2010-03-01</th>\n",
       "      <td>719944.0</td>\n",
       "      <td>2010</td>\n",
       "      <td>3</td>\n",
       "      <td>3136</td>\n",
       "      <td>1797776.875</td>\n",
       "      <td>100</td>\n",
       "      <td>100</td>\n",
       "      <td>33</td>\n",
       "      <td>47</td>\n",
       "      <td>66</td>\n",
       "      <td>0</td>\n",
       "      <td>90</td>\n",
       "      <td>66.8573</td>\n",
       "      <td>33.31</td>\n",
       "      <td>18.42</td>\n",
       "    </tr>\n",
       "    <tr>\n",
       "      <th>2010-04-01</th>\n",
       "      <td>735432.0</td>\n",
       "      <td>2010</td>\n",
       "      <td>4</td>\n",
       "      <td>2668</td>\n",
       "      <td>1787449.625</td>\n",
       "      <td>92</td>\n",
       "      <td>85</td>\n",
       "      <td>32</td>\n",
       "      <td>49</td>\n",
       "      <td>65</td>\n",
       "      <td>0</td>\n",
       "      <td>100</td>\n",
       "      <td>94.4786</td>\n",
       "      <td>33.71</td>\n",
       "      <td>20.62</td>\n",
       "    </tr>\n",
       "    <tr>\n",
       "      <th>2010-05-01</th>\n",
       "      <td>803431.0</td>\n",
       "      <td>2010</td>\n",
       "      <td>5</td>\n",
       "      <td>2518</td>\n",
       "      <td>1795854.375</td>\n",
       "      <td>100</td>\n",
       "      <td>29</td>\n",
       "      <td>18</td>\n",
       "      <td>54</td>\n",
       "      <td>64</td>\n",
       "      <td>0</td>\n",
       "      <td>56</td>\n",
       "      <td>112.6957</td>\n",
       "      <td>33.06</td>\n",
       "      <td>19.15</td>\n",
       "    </tr>\n",
       "  </tbody>\n",
       "</table>\n",
       "</div>"
      ],
      "text/plain": [
       "            Tourists  Year  Month  No_of_flight_bookings  No_of_hotel_booked  \\\n",
       "Date                                                                           \n",
       "2010-01-01  818356.0  2010      1                   2991         2123306.250   \n",
       "2010-02-01  721201.0  2010      2                   2812         1861236.000   \n",
       "2010-03-01  719944.0  2010      3                   3136         1797776.875   \n",
       "2010-04-01  735432.0  2010      4                   2668         1787449.625   \n",
       "2010-05-01  803431.0  2010      5                   2518         1795854.375   \n",
       "\n",
       "            Tourism  Tourism_Packages  Tourist_Places  Travel  Food_Drink  \\\n",
       "Date                                                                        \n",
       "2010-01-01       86                82              24      51          78   \n",
       "2010-02-01       89                32               0      44          72   \n",
       "2010-03-01      100               100              33      47          66   \n",
       "2010-04-01       92                85              32      49          65   \n",
       "2010-05-01      100                29              18      54          64   \n",
       "\n",
       "            Flights_Kerala  Trains_Kerala      Rain  T_Max  T_Min  \n",
       "Date                                                               \n",
       "2010-01-01               0             35    6.8313  29.35  15.42  \n",
       "2010-02-01               0             35   20.1979  31.79  16.11  \n",
       "2010-03-01               0             90   66.8573  33.31  18.42  \n",
       "2010-04-01               0            100   94.4786  33.71  20.62  \n",
       "2010-05-01               0             56  112.6957  33.06  19.15  "
      ]
     },
     "execution_count": 3,
     "metadata": {},
     "output_type": "execute_result"
    }
   ],
   "source": [
    "df.head()"
   ]
  },
  {
   "cell_type": "code",
   "execution_count": null,
   "metadata": {},
   "outputs": [],
   "source": []
  },
  {
   "cell_type": "code",
   "execution_count": 77,
   "metadata": {},
   "outputs": [],
   "source": [
    "# data = df.copy()  # Create a copy of the DataFrame\n",
    "\n",
    "# month_mapping = {\n",
    "#     'Jan': 1,\n",
    "#     'Feb': 2,\n",
    "#     'Mar': 3,\n",
    "#     'Apr': 4,\n",
    "#     'May': 5,\n",
    "#     'Jun': 6,\n",
    "#     'Jul': 7,\n",
    "#     'Aug': 8,\n",
    "#     'Sep': 9,\n",
    "#     'Oct': 10,\n",
    "#     'Nov': 11,\n",
    "#     'Dec': 12\n",
    "# }\n",
    "\n",
    "# data['Month'] = data['Month'].map(month_mapping)\n",
    "# data['Date'] = pd.to_datetime(data[['Year', 'Month']].assign(day=1))\n",
    "# data.set_index('Date', inplace=True)"
   ]
  },
  {
   "cell_type": "code",
   "execution_count": 78,
   "metadata": {},
   "outputs": [],
   "source": [
    "# data.info()"
   ]
  },
  {
   "cell_type": "code",
   "execution_count": 4,
   "metadata": {},
   "outputs": [],
   "source": [
    "data=df"
   ]
  },
  {
   "cell_type": "code",
   "execution_count": 5,
   "metadata": {},
   "outputs": [],
   "source": [
    "import pandas as pd\n",
    "import numpy as np\n",
    "import matplotlib.pyplot as plt\n",
    "from xgboost import XGBRegressor\n",
    "from sklearn.metrics import mean_squared_error\n",
    "from sklearn.model_selection import train_test_split"
   ]
  },
  {
   "cell_type": "code",
   "execution_count": 50,
   "metadata": {},
   "outputs": [],
   "source": [
    "# Split your data into training and testing (e.g., use 2010-2018 for training and 2019 for testing)\n",
    "train_data = data['2010-01-01':'2017-12-01']\n",
    "test_data = data['2017-01-01':'2019-12-01']"
   ]
  },
  {
   "cell_type": "code",
   "execution_count": null,
   "metadata": {},
   "outputs": [],
   "source": []
  },
  {
   "cell_type": "code",
   "execution_count": 51,
   "metadata": {},
   "outputs": [],
   "source": [
    "\n",
    "\n",
    "# Modify the function to use .loc\n",
    "def create_lagged_features(data, lag=12):\n",
    "    data_copy = data.copy()  # Create a copy to avoid the SettingWithCopyWarning\n",
    "    for i in range(1, lag+1):\n",
    "        data_copy[f'Lag_{i}'] = data_copy['Tourists'].shift(i)\n",
    "    data_copy = data_copy.dropna()\n",
    "    return data_copy\n",
    "\n",
    "train_data = create_lagged_features(train_data)\n",
    "test_data = create_lagged_features(test_data)"
   ]
  },
  {
   "cell_type": "code",
   "execution_count": null,
   "metadata": {},
   "outputs": [],
   "source": []
  },
  {
   "cell_type": "code",
   "execution_count": 52,
   "metadata": {},
   "outputs": [],
   "source": [
    "# Split the data into features (X) and the target (y)\n",
    "X_train = train_data.drop('Tourists', axis=1)\n",
    "y_train = train_data['Tourists']\n",
    "X_test = test_data.drop('Tourists', axis=1)\n",
    "y_test = test_data['Tourists']"
   ]
  },
  {
   "cell_type": "code",
   "execution_count": null,
   "metadata": {},
   "outputs": [],
   "source": []
  },
  {
   "cell_type": "code",
   "execution_count": 53,
   "metadata": {},
   "outputs": [],
   "source": [
    "# Create an XGBoost model\n",
    "model = XGBRegressor(n_estimators=100, max_depth=3, objective='reg:squarederror')"
   ]
  },
  {
   "cell_type": "code",
   "execution_count": 54,
   "metadata": {},
   "outputs": [
    {
     "data": {
      "text/plain": [
       "XGBRegressor(base_score=None, booster=None, callbacks=None,\n",
       "             colsample_bylevel=None, colsample_bynode=None,\n",
       "             colsample_bytree=None, early_stopping_rounds=None,\n",
       "             enable_categorical=False, eval_metric=None, feature_types=None,\n",
       "             gamma=None, gpu_id=None, grow_policy=None, importance_type=None,\n",
       "             interaction_constraints=None, learning_rate=None, max_bin=None,\n",
       "             max_cat_threshold=None, max_cat_to_onehot=None,\n",
       "             max_delta_step=None, max_depth=3, max_leaves=None,\n",
       "             min_child_weight=None, missing=nan, monotone_constraints=None,\n",
       "             n_estimators=100, n_jobs=None, num_parallel_tree=None,\n",
       "             predictor=None, random_state=None, ...)"
      ]
     },
     "execution_count": 54,
     "metadata": {},
     "output_type": "execute_result"
    }
   ],
   "source": [
    "# Train the model\n",
    "model.fit(X_train, y_train)"
   ]
  },
  {
   "cell_type": "code",
   "execution_count": 55,
   "metadata": {},
   "outputs": [],
   "source": [
    "# Make predictions\n",
    "predictions = model.predict(X_test)"
   ]
  },
  {
   "cell_type": "code",
   "execution_count": 56,
   "metadata": {},
   "outputs": [
    {
     "data": {
      "text/plain": [
       "array([1495711.6, 1249847.5, 1351878.2, 1410672. , 1457011.2, 1177617.9,\n",
       "       1248602.2, 1390720.9, 1380856. , 1668380.2, 1682401.9, 1704658.4,\n",
       "       1510904.1, 1507097.4, 1692487.9, 1444912.4, 1500497.1, 1290657.1,\n",
       "       1416709.9, 1289555.6, 1478394.4, 1712329.4, 1727544.5, 1719421.5],\n",
       "      dtype=float32)"
      ]
     },
     "execution_count": 56,
     "metadata": {},
     "output_type": "execute_result"
    }
   ],
   "source": [
    "predictions"
   ]
  },
  {
   "cell_type": "code",
   "execution_count": 57,
   "metadata": {},
   "outputs": [
    {
     "name": "stdout",
     "output_type": "stream",
     "text": [
      "RMSE: 189956.09931402124\n"
     ]
    }
   ],
   "source": [
    "# Calculate and print the Root Mean Squared Error (RMSE)\n",
    "rmse = np.sqrt(mean_squared_error(y_test, predictions))\n",
    "print(f\"RMSE: {rmse}\")"
   ]
  },
  {
   "cell_type": "code",
   "execution_count": 62,
   "metadata": {},
   "outputs": [
    {
     "data": {
      "image/png": "[encoded data removed]",
      "text/plain": [
       "<Figure size 1000x600 with 1 Axes>"
      ]
     },
     "metadata": {},
     "output_type": "display_data"
    }
   ],
   "source": [
    "# Increase the plot size (e.g., width=12 inches, height=6 inches)\n",
    "plt.figure(figsize=(10, 6))\n",
    "date_range = pd.date_range(start=\"2018-01-01\", end=\"2019-12-31\", freq=\"M\")\n",
    "# Plot the actual and predicted values\n",
    "plt.plot(test_data.index, y_test, label=\"Actual\", marker='o')\n",
    "plt.plot(test_data.index, predictions, label=\"Predicted\", marker='x')\n",
    "\n",
    "plt.xlabel(\"Time\")\n",
    "plt.ylabel(\"Total Tourists\")\n",
    "plt.legend()\n",
    "plt.title(\"XGBoost Forecast\")\n",
    "plt.show()\n"
   ]
  },
  {
   "cell_type": "code",
   "execution_count": 59,
   "metadata": {},
   "outputs": [
    {
     "data": {
      "text/plain": [
       "Date\n",
       "2018-01-01    1590463.0\n",
       "2018-02-01    1378781.0\n",
       "2018-03-01    1349162.0\n",
       "2018-04-01    1556044.0\n",
       "2018-05-01    1639759.0\n",
       "2018-06-01    1120984.0\n",
       "2018-07-01    1245862.0\n",
       "2018-08-01    1055698.0\n",
       "2018-09-01    1164214.0\n",
       "2018-10-01    1354291.0\n",
       "2018-11-01    1464076.0\n",
       "2018-12-01    1781733.0\n",
       "2019-01-01    1676139.0\n",
       "2019-02-01    1483689.0\n",
       "2019-03-01    1453109.0\n",
       "2019-04-01    1699950.0\n",
       "2019-05-01    1868938.0\n",
       "2019-06-01    1387171.0\n",
       "2019-07-01    1508542.0\n",
       "2019-08-01    1395385.0\n",
       "2019-09-01    1531279.0\n",
       "2019-10-01    1688298.0\n",
       "2019-11-01    1773738.0\n",
       "2019-12-01    2107766.0\n",
       "Name: Tourists, dtype: float64"
      ]
     },
     "execution_count": 59,
     "metadata": {},
     "output_type": "execute_result"
    }
   ],
   "source": [
    "y_test"
   ]
  },
  {
   "cell_type": "code",
   "execution_count": 60,
   "metadata": {},
   "outputs": [
    {
     "name": "stdout",
     "output_type": "stream",
     "text": [
      "MAE: 151340.81770833334\n",
      "RMSE: 189956.09931402124\n",
      "MAPE: 10.13348930065857\n"
     ]
    }
   ],
   "source": [
    "y_act1=y_test[:]\n",
    "y_pred1=predictions[:]\n",
    "y_act1 = pd.DataFrame(y_test, columns=[\"Tourists\"])\n",
    "y_pred1 = pd.DataFrame(predictions, columns=[\"Tourists\"])\n",
    "y_act1.reset_index(inplace=True, drop=True)\n",
    "y_pred1.reset_index(inplace=True, drop=True)\n",
    "y_pred2=y_pred1.iloc[:,0]\n",
    "y_act2=y_act1.iloc[:,0]\n",
    "import numpy as np\n",
    "\n",
    "# Calculate MAE (Mean Absolute Error)\n",
    "mae = np.mean(np.abs(y_act2 - y_pred2))\n",
    "\n",
    "# Calculate RMSE (Root Mean Squared Error)\n",
    "rmse = np.sqrt(np.mean((y_act2 - y_pred2) ** 2))\n",
    "\n",
    "# Calculate MAPE (Mean Absolute Percentage Error)\n",
    "mape = np.mean(np.abs((y_act2 - y_pred2) / y_act2)) * 100\n",
    "\n",
    "print(\"MAE:\", mae)\n",
    "print(\"RMSE:\", rmse)\n",
    "print(\"MAPE:\", mape)"
   ]
  },
  {
   "cell_type": "code",
   "execution_count": 48,
   "metadata": {},
   "outputs": [
    {
     "data": {
      "text/plain": [
       "0     1676139.0\n",
       "1     1483689.0\n",
       "2     1453109.0\n",
       "3     1699950.0\n",
       "4     1868938.0\n",
       "5     1387171.0\n",
       "6     1508542.0\n",
       "7     1395385.0\n",
       "8     1531279.0\n",
       "9     1688298.0\n",
       "10    1773738.0\n",
       "11    2107766.0\n",
       "Name: Tourists, dtype: float64"
      ]
     },
     "execution_count": 48,
     "metadata": {},
     "output_type": "execute_result"
    }
   ],
   "source": [
    "y_act2"
   ]
  },
  {
   "cell_type": "code",
   "execution_count": 49,
   "metadata": {},
   "outputs": [
    {
     "data": {
      "text/plain": [
       "0     1676321.000\n",
       "1     1470616.125\n",
       "2     1464171.375\n",
       "3     1667732.000\n",
       "4     1739364.500\n",
       "5     1417572.125\n",
       "6     1340618.500\n",
       "7     1251801.250\n",
       "8     1297749.500\n",
       "9     1541107.000\n",
       "10    1619438.250\n",
       "11    1751282.250\n",
       "Name: Tourists, dtype: float32"
      ]
     },
     "execution_count": 49,
     "metadata": {},
     "output_type": "execute_result"
    }
   ],
   "source": [
    "y_pred2"
   ]
  },
  {
   "cell_type": "code",
   "execution_count": null,
   "metadata": {},
   "outputs": [],
   "source": []
  }
 ],
 "metadata": {
  "colab": {
   "provenance": []
  },
  "kernelspec": {
   "display_name": "Python 3 (ipykernel)",
   "language": "python",
   "name": "python3"
  },
  "language_info": {
   "codemirror_mode": {
    "name": "ipython",
    "version": 3
   },
   "file_extension": ".py",
   "mimetype": "text/x-python",
   "name": "python",
   "nbconvert_exporter": "python",
   "pygments_lexer": "ipython3",
   "version": "3.9.13"
  }
 },
 "nbformat": 4,
 "nbformat_minor": 1
}
